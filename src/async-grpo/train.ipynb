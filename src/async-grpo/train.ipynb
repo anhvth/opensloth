{
 "cells": [
  {
   "cell_type": "code",
   "execution_count": 1,
   "id": "1bd8655d",
   "metadata": {},
   "outputs": [],
   "source": [
    "import os\n",
    "os.environ['CUDA_VISIBLE_DEVICES'] = '0'"
   ]
  },
  {
   "cell_type": "code",
   "execution_count": 2,
   "id": "dcc16f6f",
   "metadata": {},
   "outputs": [
    {
     "name": "stdout",
     "output_type": "stream",
     "text": [
      "🦥 Unsloth: Will patch your computer to enable 2x faster free finetuning.\n",
      "INFO 09-07 19:15:38 [__init__.py:241] Automatically detected platform cuda.\n",
      "🦥 Unsloth Zoo will now patch everything to make training faster!\n"
     ]
    }
   ],
   "source": [
    "from unsloth import FastLanguageModel\n",
    "from trl import GRPOConfig, GRPOTrainer # type: ignore\n",
    "from datasets import load_dataset\n",
    "from vllm import SamplingParams\n",
    "\n",
    "from speedy_utils import * # type: ignore\n",
    "from llm_utils import * # type: ignore"
   ]
  },
  {
   "cell_type": "code",
   "execution_count": 3,
   "id": "2a63c613",
   "metadata": {},
   "outputs": [
    {
     "name": "stdout",
     "output_type": "stream",
     "text": [
      "==((====))==  Unsloth 2025.9.1: Fast Qwen3 patching. Transformers: 4.56.1. vLLM: 0.10.1.1.\n",
      "   \\\\   /|    NVIDIA GeForce RTX 4090. Num GPUs = 1. Max memory: 23.527 GB. Platform: Linux.\n",
      "O^O/ \\_/ \\    Torch: 2.7.1+cu126. CUDA: 8.9. CUDA Toolkit: 12.6. Triton: 3.3.1\n",
      "\\        /    Bfloat16 = TRUE. FA [Xformers = 0.0.31. FA2 = False]\n",
      " \"-____-\"     Free license: http://github.com/unslothai/unsloth\n",
      "Unsloth: Fast downloading is enabled - ignore downloading bars which are red colored!\n"
     ]
    },
    {
     "data": {
      "application/vnd.jupyter.widget-view+json": {
       "model_id": "a1be25cd92364d6da33ac11bc1c16ae1",
       "version_major": 2,
       "version_minor": 0
      },
      "text/plain": [
       "Loading checkpoint shards:   0%|          | 0/2 [00:00<?, ?it/s]"
      ]
     },
     "metadata": {},
     "output_type": "display_data"
    }
   ],
   "source": [
    "assert 'unsloth' in str(GRPOTrainer).lower(), \"Expected GRPOTrainer from unsloth\"\n",
    "\n",
    "\n",
    "# ==================== Model Setup ====================\n",
    "max_seq_length = 32_000\n",
    "lora_rank = 16\n",
    "\n",
    "model, tokenizer = FastLanguageModel.from_pretrained(\n",
    "    model_name=\"/mnt/data/hf-models/unsloth/Qwen3-14B-bnb-4bit\",  # Using 0.6B as per project\n",
    "    # model_name='/mnt/data/models/Qwen-14B-250808/',\n",
    "    max_seq_length=max_seq_length,\n",
    "    load_in_4bit=True,\n",
    "    load_in_8bit=False,\n",
    "    fast_inference=False,\n",
    "    max_lora_rank=lora_rank,\n",
    "    # gpu_memory_utilization=0.7,\n",
    ")\n"
   ]
  },
  {
   "cell_type": "code",
   "execution_count": 4,
   "id": "fb7446bb",
   "metadata": {},
   "outputs": [],
   "source": [
    "items = load_by_ext('/home/anhvth5/projects/TRANSLATE_UI/assets/LC_STANDARD/TSN_PW_ZH_TH/training_data.json')"
   ]
  },
  {
   "cell_type": "code",
   "execution_count": 5,
   "id": "08908211",
   "metadata": {},
   "outputs": [
    {
     "name": "stderr",
     "output_type": "stream",
     "text": [
      "Unsloth 2025.9.1 patched 40 layers with 40 QKV layers, 40 O layers and 40 MLP layers.\n"
     ]
    }
   ],
   "source": [
    "model = FastLanguageModel.get_peft_model(\n",
    "    model,\n",
    "    r=lora_rank,\n",
    "    target_modules=[\n",
    "        \"q_proj\", \"k_proj\", \"v_proj\", \"o_proj\",\n",
    "        \"gate_proj\", \"up_proj\", \"down_proj\",\n",
    "    ],\n",
    "    lora_alpha=lora_rank * 2,\n",
    "    use_gradient_checkpointing=\"unsloth\",\n",
    "    random_state=3407,\n",
    ")"
   ]
  },
  {
   "cell_type": "code",
   "execution_count": 11,
   "id": "3e89c88f",
   "metadata": {},
   "outputs": [
    {
     "data": {
      "application/vnd.jupyter.widget-view+json": {
       "model_id": "053cc9d0bebd4391bf77d6e1515884e3",
       "version_major": 2,
       "version_minor": 0
      },
      "text/plain": [
       "Map (num_proc=4):   0%|          | 0/10 [00:00<?, ? examples/s]"
      ]
     },
     "metadata": {},
     "output_type": "display_data"
    }
   ],
   "source": [
    "from datasets import Dataset\n",
    "dataset = Dataset.from_list(items[:10])\n",
    "def f(ex):\n",
    "    # content = ex[\"messages\"][0]['content']+'\\n\\n/no_think'\n",
    "    # prompt = tokenizer.apply_chat_template(\n",
    "    #     [\n",
    "    #         {\"role\": \"user\", \"content\": content},\n",
    "    #     ], add_generation_prompt=True, tokenize=False\n",
    "    # )\n",
    "    messages = ex[\"messages\"][:1]\n",
    "    messages[0]['content']+='\\n\\n/no_think'\n",
    "    return {\"prompt\": messages, \"answer\": jloads(ex[\"metadata\"])[\"target_text\"]}\n",
    "\n",
    "\n",
    "dataset = dataset.map(\n",
    "    f,\n",
    "    num_proc=4,\n",
    "    remove_columns=dataset.column_names,\n",
    ")"
   ]
  },
  {
   "cell_type": "code",
   "execution_count": 12,
   "id": "320e306b",
   "metadata": {},
   "outputs": [],
   "source": [
    "# from rewards import func_rewards"
   ]
  },
  {
   "cell_type": "code",
   "execution_count": 13,
   "id": "9e4608b8",
   "metadata": {},
   "outputs": [
    {
     "name": "stderr",
     "output_type": "stream",
     "text": [
      "Detected kernel version 5.4.0, which is below the recommended minimum of 5.5.0; this can cause the process to hang. It is recommended to upgrade the kernel to the minimum version or higher.\n"
     ]
    },
    {
     "name": "stdout",
     "output_type": "stream",
     "text": [
      "Unsloth: We now expect `per_device_train_batch_size` to be a multiple of `num_generations`.\n",
      "We will change the batch size of 1 to the `num_generations` of 4\n"
     ]
    }
   ],
   "source": [
    "# ==================== Reward Functions ====================\n",
    "\n",
    "# Regex patterns for reward functions\n",
    "global PRINTED_TIMES, PRINT_EVERY_STEPS\n",
    "PRINTED_TIMES = 0\n",
    "PRINT_EVERY_STEPS = 1\n",
    "\n",
    "\n",
    "from tabulate import tabulate\n",
    "import re\n",
    "\n",
    "# Define the regex pattern to match the translation format\n",
    "translation_format = re.compile(\n",
    "    r\"<think>.*</think><translation>\\n(.+?)\\n</translation>\",\n",
    "    flags=re.MULTILINE | re.DOTALL\n",
    ")\n",
    "\n",
    "# Global variables for printing control\n",
    "PRINTED_TIMES = 0\n",
    "PRINT_EVERY_STEPS = 5\n",
    "\n",
    "def check_translation_format(prompts, completions, answer, **kwargs):\n",
    "    \"\"\"\n",
    "    Reward function to check if the completion matches the translation format\n",
    "    and if the extracted translation matches the expected answer.\n",
    "    Prints a formatted table with question, answer, response, and extracted translation for debugging.\n",
    "    \"\"\"\n",
    "    global PRINTED_TIMES, PRINT_EVERY_STEPS\n",
    "    scores = []\n",
    "    table_data = []\n",
    "\n",
    "    for prompt, completion, true_answer in zip(prompts, completions, answer):\n",
    "        question = prompt[-1][\"content\"] if isinstance(prompt, list) else prompt\n",
    "        response = completion[0][\"content\"] if isinstance(completion, list) else completion\n",
    "        score = 0\n",
    "\n",
    "        # Check if the response matches the exact format\n",
    "        format_match = translation_format.search(response)\n",
    "        if format_match:\n",
    "            score += 3.0  # Reward for correct format\n",
    "            extracted_translation = format_match.group(1).strip()\n",
    "        else:\n",
    "            extracted_translation = None\n",
    "            score -= 1.0  # Penalize for incorrect format\n",
    "\n",
    "        # Check if the extracted translation matches the true answer\n",
    "        if extracted_translation == true_answer:\n",
    "            score += 5.0  # Reward for correct translation\n",
    "        elif extracted_translation and extracted_translation.strip() == true_answer.strip():\n",
    "            score += 3.5  # Reward for correct translation ignoring whitespace\n",
    "        else:\n",
    "            score -= 2.0  # Penalize for incorrect or missing translation\n",
    "\n",
    "        # Prepare data for logging\n",
    "        table_data.append([\n",
    "            question[:50] + (\"...\" if len(question) > 50 else \"\"),  # Truncate for readability\n",
    "            true_answer,\n",
    "            response[:50] + (\"...\" if len(response) > 50 else \"\"),\n",
    "            extracted_translation if extracted_translation else \"None\",\n",
    "            score\n",
    "        ])\n",
    "\n",
    "        scores.append(score)\n",
    "\n",
    "    # Print table every PRINT_EVERY_STEPS\n",
    "    if PRINTED_TIMES % PRINT_EVERY_STEPS == 0:\n",
    "        headers = [\"Question\", \"True Answer\", \"Response\", \"Extracted\", \"Score\"]\n",
    "        print(tabulate(table_data, headers=headers, tablefmt=\"grid\"))\n",
    "\n",
    "    PRINTED_TIMES += 1\n",
    "    return scores\n",
    "\n",
    "\n",
    "# ==================== GRPO Configuration ====================\n",
    "vllm_sampling_params = SamplingParams(\n",
    "    min_p=0.1,\n",
    "    top_p=1.0,\n",
    "    top_k=-1,\n",
    "    seed=3407,\n",
    "    stop=[tokenizer.eos_token, '</translation>'],\n",
    "    include_stop_str_in_output=True,\n",
    ")\n",
    "\n",
    "training_args = GRPOConfig(\n",
    "    generation_kwargs={\n",
    "        \"min_p\": 0.1,\n",
    "        \"top_p\": 1.0,\n",
    "        \"top_k\": 10,\n",
    "        \"stop\": [tokenizer.eos_token],\n",
    "        \"include_stop_str_in_output\": True,\n",
    "    },\n",
    "    disable_tqdm=True,\n",
    "    torch_compile=False,\n",
    "    temperature=1.0,\n",
    "    learning_rate=5e-6,\n",
    "    weight_decay=0.01,\n",
    "    warmup_ratio=0.1,\n",
    "    lr_scheduler_type=\"linear\",\n",
    "    optim=\"adamw_8bit\",\n",
    "    logging_steps=1,\n",
    "    per_device_train_batch_size=1,\n",
    "    gradient_accumulation_steps=1,\n",
    "    num_generations=4,\n",
    "    max_prompt_length=30_000,\n",
    "    max_completion_length=256,\n",
    "    max_steps=10000,\n",
    "    save_steps=100,\n",
    "    report_to=\"none\",\n",
    "    output_dir=\"outputs\",\n",
    ")\n",
    "\n",
    "# ==================== Trainer Creation ====================\n",
    "from rewards import func_rewards\n",
    "trainer = GRPOTrainer(\n",
    "    model=model,\n",
    "    processing_class=tokenizer,\n",
    "    reward_funcs=[  # type: ignore\n",
    "        check_translation_format, *func_rewards\n",
    "    ],\n",
    "    args=training_args,\n",
    "    train_dataset=dataset,\n",
    ")"
   ]
  },
  {
   "cell_type": "code",
   "execution_count": null,
   "id": "ea01cd17",
   "metadata": {},
   "outputs": [
    {
     "name": "stderr",
     "output_type": "stream",
     "text": [
      "==((====))==  Unsloth - 2x faster free finetuning | Num GPUs used = 1\n",
      "   \\\\   /|    Num examples = 10 | Num Epochs = 1,000 | Total steps = 10,000\n",
      "O^O/ \\_/ \\    Batch size per device = 4 | Gradient accumulation steps = 1\n",
      "\\        /    Data Parallel GPUs = 1 | Total batch size (4 x 1 x 1) = 4\n",
      " \"-____-\"     Trainable parameters = 64,225,280 of 14,832,532,480 (0.43% trained)\n"
     ]
    }
   ],
   "source": [
    "trainer.train()"
   ]
  },
  {
   "cell_type": "code",
   "execution_count": 10,
   "id": "b19cacad",
   "metadata": {},
   "outputs": [
    {
     "name": "stdout",
     "output_type": "stream",
     "text": [
      "> \u001b[32m/home/anhvth5/projects/opensloth/src/async-grpo/rewards.py\u001b[39m(\u001b[92m58\u001b[39m)\u001b[36m_extract_translation_data\u001b[39m\u001b[34m()\u001b[39m\n",
      "\u001b[32m     56\u001b[39m     \u001b[38;5;28;01mtry\u001b[39;00m:\n",
      "\u001b[32m     57\u001b[39m         \u001b[38;5;66;03m# 1. Extract source text from the user prompt\u001b[39;00m\n",
      "\u001b[32m---> 58\u001b[39m         user_prompt = prompts[\u001b[32m0\u001b[39m][-\u001b[32m1\u001b[39m][\u001b[33m\"content\"\u001b[39m]\n",
      "\u001b[32m     59\u001b[39m         source_match = re.search(\n",
      "\u001b[32m     60\u001b[39m             \u001b[33mr\"Source Text \\(.*? → .*?\\):\\n(.*)\"\u001b[39m, user_prompt, re.DOTALL\n",
      "\n",
      "['<|im_start|>user\\n### Role:\\nYou are a **game-localisation specialist**. Use the examples below to infer tone, genre terminology, and style.\\n\\nTranslate the following text faithfully, preserving tone and meaning. Use the examples and glossaries as guidance for terminology and style. Do not include any reasoning or explanation—output only the translation.\\n\\n**Output schema:**\\ntranslation: \"<final translation>\"\\n\\n<translation>\\n<your final translation here>\\n</translation>\\n\\nProject Base Examples:\\n| # | Source | Target |\\n|---|--------|--------|\\n| 1 | ☆☆☆曜日长靴 | ☆☆☆บูทสุริยัน |\\n| 2 | [391007FF]射出炸雷矢，对目标造成[006400FF]127%[-]+[006400FF]63[-]点物理伤害，并引发爆炸，对目标周围至多[006400FF]3[-]个敌人造成[006400FF]381%[-]+[006400FF]191[-]点物理伤害 | [391007FF]ยิงลูกศรสายฟ้า ทำให้เป้าหมายรับP.DMG[006400FF]127%[-]+[006400FF]63[-]หน่วย แล้วยิงระเบิด ทำให้ศัตรูไม่เกิน[006400FF]3[-]คนที่อยู่รอบๆ รับP.DMG[006400FF]381%[-]+[006400FF]191[-]หน่วย |\\n| 3 | 消灭[FFA54F]足够数量[-]的[FFA54F]幻像金币[-]，来完成李昂的考验吧！ | ปราบ[FFA54F]ครบ[-] [FFA54F]ทองคำลวงตา[-] ทำการทดสอบของหลี่อ๋างให้สำเร็จ! |\\n| 4 | 高级藏宝图--通天湖3 | แผนที่ขุมทรัพย์ขั้นสูง--ทะเลสาบทะลุฟ้า3 |\\n| 5 | 看破·高 | มองทะลุ-สูง |\\n| 6 | 仙-横刀-澎湃 | เซียน-มีดแนวนอน-คลื่นใหญ่ |\\n| 7 | 这样的成果不是偶然，不只靠运气，更多的是投入吧。 | ความสำเร็จครั้งนี้มาจากความพยายามอย่างสุดกำลัง ไม่ใช่แค่ความโชคดีเท่านั้น |\\n| 8 | 使用后清除技能和所有其他道具的冷却时间，且在30秒内使用其他道具和技能无冷却，该道具冷却时间60秒 | ใช้แล้วลบเวลาCDสกิลและไอเทมทั้งหมด และใน30วิใช้ไอเทมอื่นและสกิลไม่มีCD เวลาCDไอเทมนี้60วิ |\\n| 9 | 魔籍：时神附体 | ตำรามาร:เทพเวลาประทับร่าง |\\n| 10 | 淘气精灵宝盒 | กล่องเอลฟ์ซุกซน |\\n| 11 | 这里曾经是繁华之地，但是兵荒马乱，唉…… | ที่นี่เคยเจริญรุ่งเรือง แต่เพราะสงครามจึง... โอย... |\\n| 12 | 回复3 | ตอบ3 |\\n| 13 | 部落酒会 | ปาร์ตี้เผ่า |\\n| 14 | 木抗性 | ต้านไม้ |\\n| 15 | 提升命中几率 | เพิ่ม HIT Rate |\\n| 16 | 蓝卡98 | บัตรฟ้า98 |\\n| 17 | 雪熊 | หมีหิมะ |\\n| 18 | 使用后回复[CC6000]5%[-]生命上限+[CC6000]{0}[-]点的血量，在接下来[CC6000]10[-]秒内免疫[CC6000]2[-]次强控制；装备此神器时，当生命值低于[CC6000]50%[-]且受到控制效果时，会自动服用醒梦草，再次获得主动使用的技能效果，被动冷却时间[CC6000]120[-]秒。[aa32ff]此神器的治疗效果会随附元数量而提升，最高提升至原效果的3.5倍[-] | เมื่อใช้ฟื้นฟูHP[CC6000]5%[-]ของMaxHP+[CC6000]{0}[-]หน่วย ใน[CC6000]10[-]วิต่อไปต้านควบคุมอ่อนแอ[CC6000]2[-]ครั้ง เมื่อติดตั้งอาวุธเทพนี้ เมื่อHPต่ำกว่า[CC6000]50%[-]และได้รับผลควบคุม จะใช้หญ้าปลุกฝันอัตโนมัติ ได้รับผลสกิลใช้อีกครั้ง CDติดตัว[CC6000]120[-]วิ[aa32ff]ผลรักษาของอาวุธเทพนี้จะเพิ่มตามจำนวนธาตุ เพิ่มสูงสุดถึง3.5เท่าของผลเดิม[-] |\\n| 19 | ★★如沐春风灵冠 | ★★หมวกวิญญาณลมฤดูใบไม้ผลิ |\\n| 20 | 2000银元宝 | 2000ตำลึงเงิน |\\n| 21 | 分配队员分散进入两个[FF0000]斗兽圈[-]中！ | จัดสมาชิกทีมแยกไปเข้า[FF0000]วงสัตว์ต่อสู้[-]ทั้ง 2! |\\n| 22 | 符文经验 | ยันต์EXP |\\n| 23 | 使用后小队挑战掉落倍数+1。#r#r没有挑战次数时，优先增加挑战次数。#r#r每个副本首领会分别增加双倍次数。#r#r加倍次数会受系统双倍影响。#r#r每日最多可使用[5aef8e]3次[-]小队加倍令。#r#r本日未消耗的加倍次数，次日会转换为[5aef8e]普通次数[-]，普通次数不会受系统双倍掉落影响，且存储[5aef8e]9次[-]后将不再增加（与活动找回次数分别计数）。#r#r当基础次数不与系统双倍叠加时，只计算加倍与系统叠加情况（如1次找回次数，使用1个加倍令，系统双倍时掉落为3倍）。#r#r适用于[5aef8e]挑战--小队挑战[-]所有副本 | ใช้แล้วจำนวนเท่าดรอปท้าสู้ทีมย่อย+1 #r#rเมื่อไม่มีสิทธิ์ท้าสู้ เพิ่มสิทธิ์ท้าสู้ก่อน#r#rทุกBOSSดันเจี้ยนจะแบ่งเพิ่มสิทธิ์คูณสอง#r#rสิทธิ์เพิ่มเท่าจะได้รับผลกระทบคูณสองระบบ#r#rทุกวันสูงสุดสามารถใช้คำสั่งคูณสองทีมย่อย[5aef8e]3ครั้ง[-]#r#rวันนี้ไม่ได้ใช้สิทธิ์เพิ่มเท่า วันถัดไปจะเปลี่ยนเป็น[5aef8e]สิทธิ์ทั่วไป[-] สิทธิ์ทั่วไปไม่ได้รับผลกระทบดรอปคูณสองระบบ และบันทึก[5aef8e]9ครั้ง[-]แล้วจะไม่เพิ่มอีก(คำนวณแยกจากสิทธิ์เรียกคืนกิจกรรม)#r#rเมื่อสิทธิ์พื้นฐานไม่เพิ่มทบคูณสองระบบ คำนวณแค่ทบระบบกับเพิ่มเท่า(เช่น สิทธิ์เรียกคืน1ครั้ง ใช้1คำสั่งเพิ่มเท่า เมื่อคูณสองระบบดรอปเป็น3เท่า)#r#rเหมาะกับดันเจี้ยนทั้งหมด[5aef8e]ท้าสู้--ท้าสู้ทีมย่อย[-] |\\n| 24 | ★山行川止指环 | ★แหวนเหนือน้ำ |\\n| 25 | [007B40FF]【妖狐击】[-][CC6000]20%[-]概率降低目标[CC6000]8[-]点元气 | [ปีศาจจิ้งจอกโจมตี][-]มีโอกาส[CC6000]20%[-]ลดลมปราณเป้าหมาย[CC6000]8[-]หน่วย |\\n\\nSearched Examples:\\n| # | Source | Target |\\n|---|--------|--------|\\n| 1 | 全身装备最低精炼等级达到[ff0000]{0}/{1}[-]级 | อุปกรณ์ทั้งตัวมีLv.หลอมขั้นต่ำถึงLv.[ff0000]{0}/{1}[-] |\\n| 2 | 全身镶嵌最低{0}级魂石达到[FF7070]{1}/{2}[-]颗 | หินวิญญาณทั้งตัวมีLv.ขั้นต่ำLv.{0} ถึง [FF7070]{1}/{2}[-] |\\n| 3 | 家园达到[00FF00]4[-]级 | บ้านถึงLv.[00FF00]4[-] |\\n\\nSource Text (ZH → TH):\\n全身镌刻属性最低{0}级达到[ff0000]{1}/{2}[-]条\\n\\n/no_think<|im_end|>\\n<|im_start|>assistant\\n', '<|im_start|>user\\n### Role:\\nYou are a **game-localisation specialist**. Use the examples below to infer tone, genre terminology, and style.\\n\\nTranslate the following text faithfully, preserving tone and meaning. Use the examples and glossaries as guidance for terminology and style. Do not include any reasoning or explanation—output only the translation.\\n\\n**Output schema:**\\ntranslation: \"<final translation>\"\\n\\n<translation>\\n<your final translation here>\\n</translation>\\n\\nProject Base Examples:\\n| # | Source | Target |\\n|---|--------|--------|\\n| 1 | ☆☆☆曜日长靴 | ☆☆☆บูทสุริยัน |\\n| 2 | [391007FF]射出炸雷矢，对目标造成[006400FF]127%[-]+[006400FF]63[-]点物理伤害，并引发爆炸，对目标周围至多[006400FF]3[-]个敌人造成[006400FF]381%[-]+[006400FF]191[-]点物理伤害 | [391007FF]ยิงลูกศรสายฟ้า ทำให้เป้าหมายรับP.DMG[006400FF]127%[-]+[006400FF]63[-]หน่วย แล้วยิงระเบิด ทำให้ศัตรูไม่เกิน[006400FF]3[-]คนที่อยู่รอบๆ รับP.DMG[006400FF]381%[-]+[006400FF]191[-]หน่วย |\\n| 3 | 消灭[FFA54F]足够数量[-]的[FFA54F]幻像金币[-]，来完成李昂的考验吧！ | ปราบ[FFA54F]ครบ[-] [FFA54F]ทองคำลวงตา[-] ทำการทดสอบของหลี่อ๋างให้สำเร็จ! |\\n| 4 | 高级藏宝图--通天湖3 | แผนที่ขุมทรัพย์ขั้นสูง--ทะเลสาบทะลุฟ้า3 |\\n| 5 | 看破·高 | มองทะลุ-สูง |\\n| 6 | 仙-横刀-澎湃 | เซียน-มีดแนวนอน-คลื่นใหญ่ |\\n| 7 | 这样的成果不是偶然，不只靠运气，更多的是投入吧。 | ความสำเร็จครั้งนี้มาจากความพยายามอย่างสุดกำลัง ไม่ใช่แค่ความโชคดีเท่านั้น |\\n| 8 | 使用后清除技能和所有其他道具的冷却时间，且在30秒内使用其他道具和技能无冷却，该道具冷却时间60秒 | ใช้แล้วลบเวลาCDสกิลและไอเทมทั้งหมด และใน30วิใช้ไอเทมอื่นและสกิลไม่มีCD เวลาCDไอเทมนี้60วิ |\\n| 9 | 魔籍：时神附体 | ตำรามาร:เทพเวลาประทับร่าง |\\n| 10 | 淘气精灵宝盒 | กล่องเอลฟ์ซุกซน |\\n| 11 | 这里曾经是繁华之地，但是兵荒马乱，唉…… | ที่นี่เคยเจริญรุ่งเรือง แต่เพราะสงครามจึง... โอย... |\\n| 12 | 回复3 | ตอบ3 |\\n| 13 | 部落酒会 | ปาร์ตี้เผ่า |\\n| 14 | 木抗性 | ต้านไม้ |\\n| 15 | 提升命中几率 | เพิ่ม HIT Rate |\\n| 16 | 蓝卡98 | บัตรฟ้า98 |\\n| 17 | 雪熊 | หมีหิมะ |\\n| 18 | 使用后回复[CC6000]5%[-]生命上限+[CC6000]{0}[-]点的血量，在接下来[CC6000]10[-]秒内免疫[CC6000]2[-]次强控制；装备此神器时，当生命值低于[CC6000]50%[-]且受到控制效果时，会自动服用醒梦草，再次获得主动使用的技能效果，被动冷却时间[CC6000]120[-]秒。[aa32ff]此神器的治疗效果会随附元数量而提升，最高提升至原效果的3.5倍[-] | เมื่อใช้ฟื้นฟูHP[CC6000]5%[-]ของMaxHP+[CC6000]{0}[-]หน่วย ใน[CC6000]10[-]วิต่อไปต้านควบคุมอ่อนแอ[CC6000]2[-]ครั้ง เมื่อติดตั้งอาวุธเทพนี้ เมื่อHPต่ำกว่า[CC6000]50%[-]และได้รับผลควบคุม จะใช้หญ้าปลุกฝันอัตโนมัติ ได้รับผลสกิลใช้อีกครั้ง CDติดตัว[CC6000]120[-]วิ[aa32ff]ผลรักษาของอาวุธเทพนี้จะเพิ่มตามจำนวนธาตุ เพิ่มสูงสุดถึง3.5เท่าของผลเดิม[-] |\\n| 19 | ★★如沐春风灵冠 | ★★หมวกวิญญาณลมฤดูใบไม้ผลิ |\\n| 20 | 2000银元宝 | 2000ตำลึงเงิน |\\n| 21 | 分配队员分散进入两个[FF0000]斗兽圈[-]中！ | จัดสมาชิกทีมแยกไปเข้า[FF0000]วงสัตว์ต่อสู้[-]ทั้ง 2! |\\n| 22 | 符文经验 | ยันต์EXP |\\n| 23 | 使用后小队挑战掉落倍数+1。#r#r没有挑战次数时，优先增加挑战次数。#r#r每个副本首领会分别增加双倍次数。#r#r加倍次数会受系统双倍影响。#r#r每日最多可使用[5aef8e]3次[-]小队加倍令。#r#r本日未消耗的加倍次数，次日会转换为[5aef8e]普通次数[-]，普通次数不会受系统双倍掉落影响，且存储[5aef8e]9次[-]后将不再增加（与活动找回次数分别计数）。#r#r当基础次数不与系统双倍叠加时，只计算加倍与系统叠加情况（如1次找回次数，使用1个加倍令，系统双倍时掉落为3倍）。#r#r适用于[5aef8e]挑战--小队挑战[-]所有副本 | ใช้แล้วจำนวนเท่าดรอปท้าสู้ทีมย่อย+1 #r#rเมื่อไม่มีสิทธิ์ท้าสู้ เพิ่มสิทธิ์ท้าสู้ก่อน#r#rทุกBOSSดันเจี้ยนจะแบ่งเพิ่มสิทธิ์คูณสอง#r#rสิทธิ์เพิ่มเท่าจะได้รับผลกระทบคูณสองระบบ#r#rทุกวันสูงสุดสามารถใช้คำสั่งคูณสองทีมย่อย[5aef8e]3ครั้ง[-]#r#rวันนี้ไม่ได้ใช้สิทธิ์เพิ่มเท่า วันถัดไปจะเปลี่ยนเป็น[5aef8e]สิทธิ์ทั่วไป[-] สิทธิ์ทั่วไปไม่ได้รับผลกระทบดรอปคูณสองระบบ และบันทึก[5aef8e]9ครั้ง[-]แล้วจะไม่เพิ่มอีก(คำนวณแยกจากสิทธิ์เรียกคืนกิจกรรม)#r#rเมื่อสิทธิ์พื้นฐานไม่เพิ่มทบคูณสองระบบ คำนวณแค่ทบระบบกับเพิ่มเท่า(เช่น สิทธิ์เรียกคืน1ครั้ง ใช้1คำสั่งเพิ่มเท่า เมื่อคูณสองระบบดรอปเป็น3เท่า)#r#rเหมาะกับดันเจี้ยนทั้งหมด[5aef8e]ท้าสู้--ท้าสู้ทีมย่อย[-] |\\n| 24 | ★山行川止指环 | ★แหวนเหนือน้ำ |\\n| 25 | [007B40FF]【妖狐击】[-][CC6000]20%[-]概率降低目标[CC6000]8[-]点元气 | [ปีศาจจิ้งจอกโจมตี][-]มีโอกาส[CC6000]20%[-]ลดลมปราณเป้าหมาย[CC6000]8[-]หน่วย |\\n\\nSearched Examples:\\n| # | Source | Target |\\n|---|--------|--------|\\n| 1 | 全身装备最低精炼等级达到[ff0000]{0}/{1}[-]级 | อุปกรณ์ทั้งตัวมีLv.หลอมขั้นต่ำถึงLv.[ff0000]{0}/{1}[-] |\\n| 2 | 全身镶嵌最低{0}级魂石达到[FF7070]{1}/{2}[-]颗 | หินวิญญาณทั้งตัวมีLv.ขั้นต่ำLv.{0} ถึง [FF7070]{1}/{2}[-] |\\n| 3 | 家园达到[00FF00]4[-]级 | บ้านถึงLv.[00FF00]4[-] |\\n\\nSource Text (ZH → TH):\\n全身镌刻属性最低{0}级达到[ff0000]{1}/{2}[-]条\\n\\n/no_think<|im_end|>\\n<|im_start|>assistant\\n', '<|im_start|>user\\n### Role:\\nYou are a **game-localisation specialist**. Use the examples below to infer tone, genre terminology, and style.\\n\\nTranslate the following text faithfully, preserving tone and meaning. Use the examples and glossaries as guidance for terminology and style. Do not include any reasoning or explanation—output only the translation.\\n\\n**Output schema:**\\ntranslation: \"<final translation>\"\\n\\n<translation>\\n<your final translation here>\\n</translation>\\n\\nProject Base Examples:\\n| # | Source | Target |\\n|---|--------|--------|\\n| 1 | ☆☆☆曜日长靴 | ☆☆☆บูทสุริยัน |\\n| 2 | [391007FF]射出炸雷矢，对目标造成[006400FF]127%[-]+[006400FF]63[-]点物理伤害，并引发爆炸，对目标周围至多[006400FF]3[-]个敌人造成[006400FF]381%[-]+[006400FF]191[-]点物理伤害 | [391007FF]ยิงลูกศรสายฟ้า ทำให้เป้าหมายรับP.DMG[006400FF]127%[-]+[006400FF]63[-]หน่วย แล้วยิงระเบิด ทำให้ศัตรูไม่เกิน[006400FF]3[-]คนที่อยู่รอบๆ รับP.DMG[006400FF]381%[-]+[006400FF]191[-]หน่วย |\\n| 3 | 消灭[FFA54F]足够数量[-]的[FFA54F]幻像金币[-]，来完成李昂的考验吧！ | ปราบ[FFA54F]ครบ[-] [FFA54F]ทองคำลวงตา[-] ทำการทดสอบของหลี่อ๋างให้สำเร็จ! |\\n| 4 | 高级藏宝图--通天湖3 | แผนที่ขุมทรัพย์ขั้นสูง--ทะเลสาบทะลุฟ้า3 |\\n| 5 | 看破·高 | มองทะลุ-สูง |\\n| 6 | 仙-横刀-澎湃 | เซียน-มีดแนวนอน-คลื่นใหญ่ |\\n| 7 | 这样的成果不是偶然，不只靠运气，更多的是投入吧。 | ความสำเร็จครั้งนี้มาจากความพยายามอย่างสุดกำลัง ไม่ใช่แค่ความโชคดีเท่านั้น |\\n| 8 | 使用后清除技能和所有其他道具的冷却时间，且在30秒内使用其他道具和技能无冷却，该道具冷却时间60秒 | ใช้แล้วลบเวลาCDสกิลและไอเทมทั้งหมด และใน30วิใช้ไอเทมอื่นและสกิลไม่มีCD เวลาCDไอเทมนี้60วิ |\\n| 9 | 魔籍：时神附体 | ตำรามาร:เทพเวลาประทับร่าง |\\n| 10 | 淘气精灵宝盒 | กล่องเอลฟ์ซุกซน |\\n| 11 | 这里曾经是繁华之地，但是兵荒马乱，唉…… | ที่นี่เคยเจริญรุ่งเรือง แต่เพราะสงครามจึง... โอย... |\\n| 12 | 回复3 | ตอบ3 |\\n| 13 | 部落酒会 | ปาร์ตี้เผ่า |\\n| 14 | 木抗性 | ต้านไม้ |\\n| 15 | 提升命中几率 | เพิ่ม HIT Rate |\\n| 16 | 蓝卡98 | บัตรฟ้า98 |\\n| 17 | 雪熊 | หมีหิมะ |\\n| 18 | 使用后回复[CC6000]5%[-]生命上限+[CC6000]{0}[-]点的血量，在接下来[CC6000]10[-]秒内免疫[CC6000]2[-]次强控制；装备此神器时，当生命值低于[CC6000]50%[-]且受到控制效果时，会自动服用醒梦草，再次获得主动使用的技能效果，被动冷却时间[CC6000]120[-]秒。[aa32ff]此神器的治疗效果会随附元数量而提升，最高提升至原效果的3.5倍[-] | เมื่อใช้ฟื้นฟูHP[CC6000]5%[-]ของMaxHP+[CC6000]{0}[-]หน่วย ใน[CC6000]10[-]วิต่อไปต้านควบคุมอ่อนแอ[CC6000]2[-]ครั้ง เมื่อติดตั้งอาวุธเทพนี้ เมื่อHPต่ำกว่า[CC6000]50%[-]และได้รับผลควบคุม จะใช้หญ้าปลุกฝันอัตโนมัติ ได้รับผลสกิลใช้อีกครั้ง CDติดตัว[CC6000]120[-]วิ[aa32ff]ผลรักษาของอาวุธเทพนี้จะเพิ่มตามจำนวนธาตุ เพิ่มสูงสุดถึง3.5เท่าของผลเดิม[-] |\\n| 19 | ★★如沐春风灵冠 | ★★หมวกวิญญาณลมฤดูใบไม้ผลิ |\\n| 20 | 2000银元宝 | 2000ตำลึงเงิน |\\n| 21 | 分配队员分散进入两个[FF0000]斗兽圈[-]中！ | จัดสมาชิกทีมแยกไปเข้า[FF0000]วงสัตว์ต่อสู้[-]ทั้ง 2! |\\n| 22 | 符文经验 | ยันต์EXP |\\n| 23 | 使用后小队挑战掉落倍数+1。#r#r没有挑战次数时，优先增加挑战次数。#r#r每个副本首领会分别增加双倍次数。#r#r加倍次数会受系统双倍影响。#r#r每日最多可使用[5aef8e]3次[-]小队加倍令。#r#r本日未消耗的加倍次数，次日会转换为[5aef8e]普通次数[-]，普通次数不会受系统双倍掉落影响，且存储[5aef8e]9次[-]后将不再增加（与活动找回次数分别计数）。#r#r当基础次数不与系统双倍叠加时，只计算加倍与系统叠加情况（如1次找回次数，使用1个加倍令，系统双倍时掉落为3倍）。#r#r适用于[5aef8e]挑战--小队挑战[-]所有副本 | ใช้แล้วจำนวนเท่าดรอปท้าสู้ทีมย่อย+1 #r#rเมื่อไม่มีสิทธิ์ท้าสู้ เพิ่มสิทธิ์ท้าสู้ก่อน#r#rทุกBOSSดันเจี้ยนจะแบ่งเพิ่มสิทธิ์คูณสอง#r#rสิทธิ์เพิ่มเท่าจะได้รับผลกระทบคูณสองระบบ#r#rทุกวันสูงสุดสามารถใช้คำสั่งคูณสองทีมย่อย[5aef8e]3ครั้ง[-]#r#rวันนี้ไม่ได้ใช้สิทธิ์เพิ่มเท่า วันถัดไปจะเปลี่ยนเป็น[5aef8e]สิทธิ์ทั่วไป[-] สิทธิ์ทั่วไปไม่ได้รับผลกระทบดรอปคูณสองระบบ และบันทึก[5aef8e]9ครั้ง[-]แล้วจะไม่เพิ่มอีก(คำนวณแยกจากสิทธิ์เรียกคืนกิจกรรม)#r#rเมื่อสิทธิ์พื้นฐานไม่เพิ่มทบคูณสองระบบ คำนวณแค่ทบระบบกับเพิ่มเท่า(เช่น สิทธิ์เรียกคืน1ครั้ง ใช้1คำสั่งเพิ่มเท่า เมื่อคูณสองระบบดรอปเป็น3เท่า)#r#rเหมาะกับดันเจี้ยนทั้งหมด[5aef8e]ท้าสู้--ท้าสู้ทีมย่อย[-] |\\n| 24 | ★山行川止指环 | ★แหวนเหนือน้ำ |\\n| 25 | [007B40FF]【妖狐击】[-][CC6000]20%[-]概率降低目标[CC6000]8[-]点元气 | [ปีศาจจิ้งจอกโจมตี][-]มีโอกาส[CC6000]20%[-]ลดลมปราณเป้าหมาย[CC6000]8[-]หน่วย |\\n\\nSearched Examples:\\n| # | Source | Target |\\n|---|--------|--------|\\n| 1 | 全身装备最低精炼等级达到[ff0000]{0}/{1}[-]级 | อุปกรณ์ทั้งตัวมีLv.หลอมขั้นต่ำถึงLv.[ff0000]{0}/{1}[-] |\\n| 2 | 全身镶嵌最低{0}级魂石达到[FF7070]{1}/{2}[-]颗 | หินวิญญาณทั้งตัวมีLv.ขั้นต่ำLv.{0} ถึง [FF7070]{1}/{2}[-] |\\n| 3 | 家园达到[00FF00]4[-]级 | บ้านถึงLv.[00FF00]4[-] |\\n\\nSource Text (ZH → TH):\\n全身镌刻属性最低{0}级达到[ff0000]{1}/{2}[-]条\\n\\n/no_think<|im_end|>\\n<|im_start|>assistant\\n', '<|im_start|>user\\n### Role:\\nYou are a **game-localisation specialist**. Use the examples below to infer tone, genre terminology, and style.\\n\\nTranslate the following text faithfully, preserving tone and meaning. Use the examples and glossaries as guidance for terminology and style. Do not include any reasoning or explanation—output only the translation.\\n\\n**Output schema:**\\ntranslation: \"<final translation>\"\\n\\n<translation>\\n<your final translation here>\\n</translation>\\n\\nProject Base Examples:\\n| # | Source | Target |\\n|---|--------|--------|\\n| 1 | ☆☆☆曜日长靴 | ☆☆☆บูทสุริยัน |\\n| 2 | [391007FF]射出炸雷矢，对目标造成[006400FF]127%[-]+[006400FF]63[-]点物理伤害，并引发爆炸，对目标周围至多[006400FF]3[-]个敌人造成[006400FF]381%[-]+[006400FF]191[-]点物理伤害 | [391007FF]ยิงลูกศรสายฟ้า ทำให้เป้าหมายรับP.DMG[006400FF]127%[-]+[006400FF]63[-]หน่วย แล้วยิงระเบิด ทำให้ศัตรูไม่เกิน[006400FF]3[-]คนที่อยู่รอบๆ รับP.DMG[006400FF]381%[-]+[006400FF]191[-]หน่วย |\\n| 3 | 消灭[FFA54F]足够数量[-]的[FFA54F]幻像金币[-]，来完成李昂的考验吧！ | ปราบ[FFA54F]ครบ[-] [FFA54F]ทองคำลวงตา[-] ทำการทดสอบของหลี่อ๋างให้สำเร็จ! |\\n| 4 | 高级藏宝图--通天湖3 | แผนที่ขุมทรัพย์ขั้นสูง--ทะเลสาบทะลุฟ้า3 |\\n| 5 | 看破·高 | มองทะลุ-สูง |\\n| 6 | 仙-横刀-澎湃 | เซียน-มีดแนวนอน-คลื่นใหญ่ |\\n| 7 | 这样的成果不是偶然，不只靠运气，更多的是投入吧。 | ความสำเร็จครั้งนี้มาจากความพยายามอย่างสุดกำลัง ไม่ใช่แค่ความโชคดีเท่านั้น |\\n| 8 | 使用后清除技能和所有其他道具的冷却时间，且在30秒内使用其他道具和技能无冷却，该道具冷却时间60秒 | ใช้แล้วลบเวลาCDสกิลและไอเทมทั้งหมด และใน30วิใช้ไอเทมอื่นและสกิลไม่มีCD เวลาCDไอเทมนี้60วิ |\\n| 9 | 魔籍：时神附体 | ตำรามาร:เทพเวลาประทับร่าง |\\n| 10 | 淘气精灵宝盒 | กล่องเอลฟ์ซุกซน |\\n| 11 | 这里曾经是繁华之地，但是兵荒马乱，唉…… | ที่นี่เคยเจริญรุ่งเรือง แต่เพราะสงครามจึง... โอย... |\\n| 12 | 回复3 | ตอบ3 |\\n| 13 | 部落酒会 | ปาร์ตี้เผ่า |\\n| 14 | 木抗性 | ต้านไม้ |\\n| 15 | 提升命中几率 | เพิ่ม HIT Rate |\\n| 16 | 蓝卡98 | บัตรฟ้า98 |\\n| 17 | 雪熊 | หมีหิมะ |\\n| 18 | 使用后回复[CC6000]5%[-]生命上限+[CC6000]{0}[-]点的血量，在接下来[CC6000]10[-]秒内免疫[CC6000]2[-]次强控制；装备此神器时，当生命值低于[CC6000]50%[-]且受到控制效果时，会自动服用醒梦草，再次获得主动使用的技能效果，被动冷却时间[CC6000]120[-]秒。[aa32ff]此神器的治疗效果会随附元数量而提升，最高提升至原效果的3.5倍[-] | เมื่อใช้ฟื้นฟูHP[CC6000]5%[-]ของMaxHP+[CC6000]{0}[-]หน่วย ใน[CC6000]10[-]วิต่อไปต้านควบคุมอ่อนแอ[CC6000]2[-]ครั้ง เมื่อติดตั้งอาวุธเทพนี้ เมื่อHPต่ำกว่า[CC6000]50%[-]และได้รับผลควบคุม จะใช้หญ้าปลุกฝันอัตโนมัติ ได้รับผลสกิลใช้อีกครั้ง CDติดตัว[CC6000]120[-]วิ[aa32ff]ผลรักษาของอาวุธเทพนี้จะเพิ่มตามจำนวนธาตุ เพิ่มสูงสุดถึง3.5เท่าของผลเดิม[-] |\\n| 19 | ★★如沐春风灵冠 | ★★หมวกวิญญาณลมฤดูใบไม้ผลิ |\\n| 20 | 2000银元宝 | 2000ตำลึงเงิน |\\n| 21 | 分配队员分散进入两个[FF0000]斗兽圈[-]中！ | จัดสมาชิกทีมแยกไปเข้า[FF0000]วงสัตว์ต่อสู้[-]ทั้ง 2! |\\n| 22 | 符文经验 | ยันต์EXP |\\n| 23 | 使用后小队挑战掉落倍数+1。#r#r没有挑战次数时，优先增加挑战次数。#r#r每个副本首领会分别增加双倍次数。#r#r加倍次数会受系统双倍影响。#r#r每日最多可使用[5aef8e]3次[-]小队加倍令。#r#r本日未消耗的加倍次数，次日会转换为[5aef8e]普通次数[-]，普通次数不会受系统双倍掉落影响，且存储[5aef8e]9次[-]后将不再增加（与活动找回次数分别计数）。#r#r当基础次数不与系统双倍叠加时，只计算加倍与系统叠加情况（如1次找回次数，使用1个加倍令，系统双倍时掉落为3倍）。#r#r适用于[5aef8e]挑战--小队挑战[-]所有副本 | ใช้แล้วจำนวนเท่าดรอปท้าสู้ทีมย่อย+1 #r#rเมื่อไม่มีสิทธิ์ท้าสู้ เพิ่มสิทธิ์ท้าสู้ก่อน#r#rทุกBOSSดันเจี้ยนจะแบ่งเพิ่มสิทธิ์คูณสอง#r#rสิทธิ์เพิ่มเท่าจะได้รับผลกระทบคูณสองระบบ#r#rทุกวันสูงสุดสามารถใช้คำสั่งคูณสองทีมย่อย[5aef8e]3ครั้ง[-]#r#rวันนี้ไม่ได้ใช้สิทธิ์เพิ่มเท่า วันถัดไปจะเปลี่ยนเป็น[5aef8e]สิทธิ์ทั่วไป[-] สิทธิ์ทั่วไปไม่ได้รับผลกระทบดรอปคูณสองระบบ และบันทึก[5aef8e]9ครั้ง[-]แล้วจะไม่เพิ่มอีก(คำนวณแยกจากสิทธิ์เรียกคืนกิจกรรม)#r#rเมื่อสิทธิ์พื้นฐานไม่เพิ่มทบคูณสองระบบ คำนวณแค่ทบระบบกับเพิ่มเท่า(เช่น สิทธิ์เรียกคืน1ครั้ง ใช้1คำสั่งเพิ่มเท่า เมื่อคูณสองระบบดรอปเป็น3เท่า)#r#rเหมาะกับดันเจี้ยนทั้งหมด[5aef8e]ท้าสู้--ท้าสู้ทีมย่อย[-] |\\n| 24 | ★山行川止指环 | ★แหวนเหนือน้ำ |\\n| 25 | [007B40FF]【妖狐击】[-][CC6000]20%[-]概率降低目标[CC6000]8[-]点元气 | [ปีศาจจิ้งจอกโจมตี][-]มีโอกาส[CC6000]20%[-]ลดลมปราณเป้าหมาย[CC6000]8[-]หน่วย |\\n\\nSearched Examples:\\n| # | Source | Target |\\n|---|--------|--------|\\n| 1 | 全身装备最低精炼等级达到[ff0000]{0}/{1}[-]级 | อุปกรณ์ทั้งตัวมีLv.หลอมขั้นต่ำถึงLv.[ff0000]{0}/{1}[-] |\\n| 2 | 全身镶嵌最低{0}级魂石达到[FF7070]{1}/{2}[-]颗 | หินวิญญาณทั้งตัวมีLv.ขั้นต่ำLv.{0} ถึง [FF7070]{1}/{2}[-] |\\n| 3 | 家园达到[00FF00]4[-]级 | บ้านถึงLv.[00FF00]4[-] |\\n\\nSource Text (ZH → TH):\\n全身镌刻属性最低{0}级达到[ff0000]{1}/{2}[-]条\\n\\n/no_think<|im_end|>\\n<|im_start|>assistant\\n']\n"
     ]
    }
   ],
   "source": [
    "%debug"
   ]
  },
  {
   "cell_type": "code",
   "execution_count": 30,
   "id": "6300df56",
   "metadata": {},
   "outputs": [],
   "source": [
    "prompts, completions, answer = load_by_ext(\"debug_grpo.pkl\")"
   ]
  },
  {
   "cell_type": "code",
   "execution_count": 40,
   "id": "4ffecb9a",
   "metadata": {},
   "outputs": [],
   "source": [
    "x = jloads(items[100]['metadata'])"
   ]
  },
  {
   "cell_type": "code",
   "execution_count": null,
   "id": "209157e1",
   "metadata": {},
   "outputs": [
    {
     "name": "stdout",
     "output_type": "stream",
     "text": [
      "Using model: Qwen/Qwen3-235B-A22B-Instruct-2507-FP8\n"
     ]
    }
   ],
   "source": []
  },
  {
   "cell_type": "code",
   "execution_count": null,
   "id": "dd2339c0",
   "metadata": {},
   "outputs": [
    {
     "ename": "SyntaxError",
     "evalue": "expected ':' (2858548705.py, line 5)",
     "output_type": "error",
     "traceback": [
      "  \u001b[36mCell\u001b[39m\u001b[36m \u001b[39m\u001b[32mIn[44]\u001b[39m\u001b[32m, line 5\u001b[39m\n\u001b[31m    \u001b[39m\u001b[31mdef build_input()->str\u001b[39m\n                          ^\n\u001b[31mSyntaxError\u001b[39m\u001b[31m:\u001b[39m expected ':'\n"
     ]
    }
   ],
   "source": [
    "INSTRUCTION = \"\"\"\n",
    "You are tasked to evaluate the quality of translations produced by a language model for game translation tasks.\n",
    "\"\"\"\n",
    "\n",
    "def build_input(source_text, search_examples, glossaries)->str\n",
    "    return \n",
    "\n",
    "lm = MOpenAI(base_url='http://localhost:7999/v1')"
   ]
  },
  {
   "cell_type": "code",
   "execution_count": null,
   "id": "09e9925c",
   "metadata": {},
   "outputs": [],
   "source": []
  }
 ],
 "metadata": {
  "kernelspec": {
   "display_name": "async-grpo",
   "language": "python",
   "name": "python3"
  },
  "language_info": {
   "codemirror_mode": {
    "name": "ipython",
    "version": 3
   },
   "file_extension": ".py",
   "mimetype": "text/x-python",
   "name": "python",
   "nbconvert_exporter": "python",
   "pygments_lexer": "ipython3",
   "version": "3.11.11"
  }
 },
 "nbformat": 4,
 "nbformat_minor": 5
}
