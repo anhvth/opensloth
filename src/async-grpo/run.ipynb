{
 "cells": [
  {
   "cell_type": "code",
   "execution_count": 1,
   "id": "e14fc4bc-05ed-4b09-8817-c50a429f8c68",
   "metadata": {
    "scrolled": true
   },
   "outputs": [],
   "source": [
    "# !uv pip install git+https://github.com/willccbb/verifiers.git"
   ]
  },
  {
   "cell_type": "code",
   "execution_count": 2,
   "id": "5a4e48fb-e5f6-4051-9e38-280b7800e947",
   "metadata": {},
   "outputs": [],
   "source": [
    "import os\n",
    "from speedy_utils import *\n",
    "from llm_utils import *"
   ]
  },
  {
   "cell_type": "code",
   "execution_count": 3,
   "id": "7d054087-5f83-4533-a12d-d13bf9b600f3",
   "metadata": {},
   "outputs": [],
   "source": [
    "client = MOpenAI(base_url='http://localhost:7999/v1')"
   ]
  },
  {
   "cell_type": "code",
   "execution_count": 4,
   "id": "16ff7074-3103-449c-86a7-0f04ceec5484",
   "metadata": {},
   "outputs": [
    {
     "name": "stdout",
     "output_type": "stream",
     "text": [
      "Using model: Qwen/Qwen3-235B-A22B-Instruct-2507-FP8\n"
     ]
    }
   ],
   "source": [
    "lm = AsyncLM(port=7999)"
   ]
  },
  {
   "cell_type": "code",
   "execution_count": 5,
   "id": "00d9f317-2a5e-4d1a-8586-6376f987701c",
   "metadata": {},
   "outputs": [
    {
     "name": "stdout",
     "output_type": "stream",
     "text": [
      "Auto-detected backend: openai\n",
      "Infer model name: poly-embed-0.6b-250904\n"
     ]
    }
   ],
   "source": [
    "vector_service = VectorCache(url_or_model='http://localhost:8000/v1')#, model_name='poly-embed-0.6b-250904')"
   ]
  },
  {
   "cell_type": "code",
   "execution_count": 15,
   "id": "0be5e584-b714-4865-a999-312aa7001cce",
   "metadata": {},
   "outputs": [],
   "source": [
    "df = pd.read_csv('/home/anhvth5/projects/TRANSLATE_UI/assets/LC_STANDARD/GS3_TN_ZH_VI/examples.csv')"
   ]
  },
  {
   "cell_type": "code",
   "execution_count": 16,
   "id": "061c65e6-95ab-46a2-a445-dcc9dcac6183",
   "metadata": {},
   "outputs": [
    {
     "name": "stdout",
     "output_type": "stream",
     "text": [
      "Retrieved 256482 embeddings in 3.73 seconds\n"
     ]
    }
   ],
   "source": [
    "embeds = vector_service(df.source.tolist())"
   ]
  },
  {
   "cell_type": "code",
   "execution_count": 25,
   "id": "d717d4e0-33fe-4edb-8bad-a395f5078438",
   "metadata": {},
   "outputs": [],
   "source": [
    "from __future__ import annotations\n",
    "\n",
    "from typing import List, Literal\n",
    "from collections import defaultdict\n",
    "import numpy as np\n",
    "import faiss\n",
    "\n",
    "\n",
    "class DisjointSet:\n",
    "    def __init__(self, n: int) -> None:\n",
    "        self.parent = np.arange(n, dtype=np.int64)\n",
    "        self.size = np.ones(n, dtype=np.int64)\n",
    "\n",
    "    def find(self, x: int) -> int:\n",
    "        # path compression\n",
    "        while self.parent[x] != x:\n",
    "            self.parent[x] = self.parent[self.parent[x]]\n",
    "            x = self.parent[x]\n",
    "        return x\n",
    "\n",
    "    def union(self, a: int, b: int) -> None:\n",
    "        ra, rb = self.find(a), self.find(b)\n",
    "        if ra == rb:\n",
    "            return\n",
    "        if self.size[ra] < self.size[rb]:\n",
    "            ra, rb = rb, ra\n",
    "        self.parent[rb] = ra\n",
    "        self.size[ra] += self.size[rb]\n",
    "\n",
    "\n",
    "def filter_duplicated(\n",
    "    matrix: np.ndarray,\n",
    "    eps: float = 0.08,\n",
    "    *,\n",
    "    metric: Literal['cosine', 'l2'] = 'cosine',\n",
    "    assume_normalized: bool = True,\n",
    "    k_neighbors: int = 16,\n",
    "    batch_size: int = 8192,\n",
    "    hnsw_m: int = 16,\n",
    "    ef_search: int = 64,\n",
    ") -> List[List[int]]:\n",
    "    \"\"\"\n",
    "    Group vectors that are 'too close' (within eps) and return index groups.\n",
    "    Uses HNSW k-NN (batched) + union-find to avoid O(N^2) memory/time.\n",
    "    \"\"\"\n",
    "    if matrix.ndim != 2:\n",
    "        raise ValueError('matrix must be 2D [N, D]')\n",
    "\n",
    "    n, d = matrix.shape\n",
    "    if n == 0:\n",
    "        return []\n",
    "\n",
    "    xb = np.asarray(matrix, dtype=np.float32, order='C')\n",
    "\n",
    "    if metric == 'cosine' and not assume_normalized:\n",
    "        faiss.normalize_L2(xb)\n",
    "\n",
    "    index = faiss.IndexHNSWFlat(d, hnsw_m)\n",
    "    index.hnsw.efSearch = ef_search\n",
    "    index.add(xb)\n",
    "\n",
    "    if metric == 'cosine':\n",
    "        def close_enough(d2: float) -> bool:\n",
    "            # for unit vectors: 0.5 * ||u - v||^2 == cosine_distance\n",
    "            return 0.5 * d2 <= eps\n",
    "    else:\n",
    "        e2 = eps * eps\n",
    "\n",
    "        def close_enough(d2: float) -> bool:\n",
    "            return d2 <= e2\n",
    "\n",
    "    dsu = DisjointSet(n)\n",
    "    k = max(2, k_neighbors)\n",
    "\n",
    "    for start in range(0, n, batch_size):\n",
    "        end = min(n, start + batch_size)\n",
    "        D, I = index.search(xb[start:end], k)\n",
    "        for row in range(end - start):\n",
    "            i = start + row\n",
    "            ids = I[row]\n",
    "            d2s = D[row]\n",
    "            for j, d2 in zip(ids, d2s):\n",
    "                if j < 0 or j == i:\n",
    "                    continue\n",
    "                if close_enough(float(d2)):\n",
    "                    dsu.union(i, j)\n",
    "\n",
    "    comp_to_members: dict[int, List[int]] = defaultdict(list)\n",
    "    for i in range(n):\n",
    "        comp_to_members[dsu.find(i)].append(i)\n",
    "\n",
    "    groups = []\n",
    "    for members in comp_to_members.values():\n",
    "        members.sort()\n",
    "        groups.append(members)\n",
    "\n",
    "    groups.sort(key=lambda g: g[0])\n",
    "    return groups\n"
   ]
  },
  {
   "cell_type": "code",
   "execution_count": 21,
   "id": "0388bb98-bb8f-4ef1-acd6-5dad8306cdd0",
   "metadata": {},
   "outputs": [],
   "source": [
    "dedup_ids = filter_duplicated(embeds, 0.08)"
   ]
  },
  {
   "cell_type": "code",
   "execution_count": 26,
   "id": "ceb099cf-f1cc-4e36-b885-79492d0d73dd",
   "metadata": {},
   "outputs": [],
   "source": [
    "list_gs = filter_duplicated(embeds, 0.08)"
   ]
  },
  {
   "cell_type": "code",
   "execution_count": 40,
   "id": "d144e683-6cc2-456b-821e-11955d06311f",
   "metadata": {},
   "outputs": [],
   "source": [
    "list_gs = list(sorted(list_gs, key=len, reverse=True))"
   ]
  },
  {
   "cell_type": "code",
   "execution_count": 69,
   "id": "a3598229-3a9e-4e4b-858d-48e92f7b72dd",
   "metadata": {},
   "outputs": [
    {
     "data": {
      "text/plain": [
       "0.7702996701522914"
      ]
     },
     "execution_count": 69,
     "metadata": {},
     "output_type": "execute_result"
    }
   ],
   "source": [
    "len(list_gs)/len(df)"
   ]
  },
  {
   "cell_type": "code",
   "execution_count": 66,
   "id": "4e83747f-7bd5-4ecc-bf2b-c5c67f02df86",
   "metadata": {},
   "outputs": [],
   "source": [
    "g = list_gs[1000]"
   ]
  },
  {
   "cell_type": "code",
   "execution_count": 67,
   "id": "2d225695-c1f8-4acb-afa2-3a6c61b6a5d9",
   "metadata": {},
   "outputs": [
    {
     "data": {
      "text/html": [
       "<div>\n",
       "<style scoped>\n",
       "    .dataframe tbody tr th:only-of-type {\n",
       "        vertical-align: middle;\n",
       "    }\n",
       "\n",
       "    .dataframe tbody tr th {\n",
       "        vertical-align: top;\n",
       "    }\n",
       "\n",
       "    .dataframe thead th {\n",
       "        text-align: right;\n",
       "    }\n",
       "</style>\n",
       "<table border=\"1\" class=\"dataframe\">\n",
       "  <thead>\n",
       "    <tr style=\"text-align: right;\">\n",
       "      <th></th>\n",
       "      <th>source</th>\n",
       "      <th>target</th>\n",
       "    </tr>\n",
       "  </thead>\n",
       "  <tbody>\n",
       "    <tr>\n",
       "      <th>17020</th>\n",
       "      <td>誓约之礼-椅子1</td>\n",
       "      <td>Lễ Thề Ước-Ghế 1</td>\n",
       "    </tr>\n",
       "    <tr>\n",
       "      <th>17021</th>\n",
       "      <td>誓约之礼-椅子2</td>\n",
       "      <td>Lễ Thề Ước-Ghế 2</td>\n",
       "    </tr>\n",
       "    <tr>\n",
       "      <th>17022</th>\n",
       "      <td>誓约之礼-椅子3</td>\n",
       "      <td>Lễ Thề Ước-Ghế 3</td>\n",
       "    </tr>\n",
       "    <tr>\n",
       "      <th>17023</th>\n",
       "      <td>誓约之礼-椅子4</td>\n",
       "      <td>Lễ Thề Ước-Ghế 4</td>\n",
       "    </tr>\n",
       "    <tr>\n",
       "      <th>17024</th>\n",
       "      <td>誓约之礼-椅子5</td>\n",
       "      <td>Lễ Thề Ước-Ghế 5</td>\n",
       "    </tr>\n",
       "    <tr>\n",
       "      <th>17025</th>\n",
       "      <td>誓约之礼-椅子6</td>\n",
       "      <td>Lễ Thề Ước-Ghế 6</td>\n",
       "    </tr>\n",
       "    <tr>\n",
       "      <th>17026</th>\n",
       "      <td>誓约之礼-椅子7</td>\n",
       "      <td>Lễ Thề Ước-Ghế 7</td>\n",
       "    </tr>\n",
       "    <tr>\n",
       "      <th>17027</th>\n",
       "      <td>誓约之礼-椅子8</td>\n",
       "      <td>Lễ Thề Ước-Ghế 8</td>\n",
       "    </tr>\n",
       "  </tbody>\n",
       "</table>\n",
       "</div>"
      ],
      "text/plain": [
       "         source            target\n",
       "17020  誓约之礼-椅子1  Lễ Thề Ước-Ghế 1\n",
       "17021  誓约之礼-椅子2  Lễ Thề Ước-Ghế 2\n",
       "17022  誓约之礼-椅子3  Lễ Thề Ước-Ghế 3\n",
       "17023  誓约之礼-椅子4  Lễ Thề Ước-Ghế 4\n",
       "17024  誓约之礼-椅子5  Lễ Thề Ước-Ghế 5\n",
       "17025  誓约之礼-椅子6  Lễ Thề Ước-Ghế 6\n",
       "17026  誓约之礼-椅子7  Lễ Thề Ước-Ghế 7\n",
       "17027  誓约之礼-椅子8  Lễ Thề Ước-Ghế 8"
      ]
     },
     "execution_count": 67,
     "metadata": {},
     "output_type": "execute_result"
    }
   ],
   "source": [
    "df.iloc[g]"
   ]
  },
  {
   "cell_type": "code",
   "execution_count": null,
   "id": "28e28418-821b-4fee-821a-0c2b802fde35",
   "metadata": {},
   "outputs": [],
   "source": []
  }
 ],
 "metadata": {
  "kernelspec": {
   "display_name": "Python 3 (ipykernel)",
   "language": "python",
   "name": "python3"
  },
  "language_info": {
   "codemirror_mode": {
    "name": "ipython",
    "version": 3
   },
   "file_extension": ".py",
   "mimetype": "text/x-python",
   "name": "python",
   "nbconvert_exporter": "python",
   "pygments_lexer": "ipython3",
   "version": "3.11.11"
  }
 },
 "nbformat": 4,
 "nbformat_minor": 5
}
