{
 "cells": [
  {
   "cell_type": "code",
   "execution_count": 1,
   "id": "e14fc4bc-05ed-4b09-8817-c50a429f8c68",
   "metadata": {
    "scrolled": true
   },
   "outputs": [],
   "source": [
    "# !uv pip install git+https://github.com/willccbb/verifiers.git"
   ]
  },
  {
   "cell_type": "code",
   "execution_count": null,
   "id": "5a4e48fb-e5f6-4051-9e38-280b7800e947",
   "metadata": {},
   "outputs": [],
   "source": [
    "import os\n",
    "from speedy_utils import *\n",
    "from llm_utils import *"
   ]
  },
  {
   "cell_type": "code",
   "execution_count": 3,
   "id": "7d054087-5f83-4533-a12d-d13bf9b600f3",
   "metadata": {},
   "outputs": [],
   "source": [
    "client = MOpenAI(base_url='http://localhost:7999/v1')"
   ]
  },
  {
   "cell_type": "code",
   "execution_count": 4,
   "id": "16ff7074-3103-449c-86a7-0f04ceec5484",
   "metadata": {},
   "outputs": [
    {
     "name": "stdout",
     "output_type": "stream",
     "text": [
      "Using model: Qwen/Qwen3-235B-A22B-Instruct-2507-FP8\n"
     ]
    }
   ],
   "source": [
    "lm = AsyncLM(port=7999)"
   ]
  },
  {
   "cell_type": "code",
   "execution_count": 5,
   "id": "00d9f317-2a5e-4d1a-8586-6376f987701c",
   "metadata": {},
   "outputs": [
    {
     "name": "stdout",
     "output_type": "stream",
     "text": [
      "Auto-detected backend: openai\n",
      "Infer model name: poly-embed-0.6b-250904\n"
     ]
    }
   ],
   "source": [
    "vector_service = VectorCache(url_or_model='http://localhost:8000/v1')#, model_name='poly-embed-0.6b-250904')"
   ]
  },
  {
   "cell_type": "code",
   "execution_count": null,
   "id": "aaac04e2-d0b4-4d01-a604-833651acd847",
   "metadata": {},
   "outputs": [],
   "source": []
  },
  {
   "cell_type": "code",
   "execution_count": 7,
   "id": "a3598229-3a9e-4e4b-858d-48e92f7b72dd",
   "metadata": {
    "scrolled": true
   },
   "outputs": [],
   "source": [
    "# # from exps.embeding_dedup import filter_duplicated\n",
    "# from glob import glob\n",
    "# from tqdm import tqdm\n",
    "\n",
    "# paths = glob('/home/anhvth5/projects/TRANSLATE_UI/assets/*/*/examples.csv')\n",
    "# for path in tqdm(paths):\n",
    "#     print(path)\n",
    "#     df = pd.read_csv(path)\n",
    "#     embeds = vector_service(df.source.tolist())\n",
    "#     dedup_ids = filter_duplicated(embeds, 0.08)\n",
    "#     list_gs = list(sorted(dedup_ids, key=len, reverse=True))\n",
    "#     # map group id to df\n",
    "#     for i, g in enumerate(list_gs):\n",
    "#         df.loc[g, 'group_id'] = i\n",
    "#     df.to_csv(path.replace('examples.csv', 'examples_dedup.csv'), index=False)        \n",
    "#     print(path, len(df), len(list_gs))\n",
    "#     break"
   ]
  },
  {
   "cell_type": "code",
   "execution_count": 8,
   "id": "924b5653-5049-46e8-a188-8baf39a1b002",
   "metadata": {},
   "outputs": [],
   "source": [
    "df = df.drop_duplicates('source')"
   ]
  },
  {
   "cell_type": "code",
   "execution_count": 10,
   "id": "d2ed96cf-c2f6-4065-b788-619ab075ffa3",
   "metadata": {
    "scrolled": true
   },
   "outputs": [],
   "source": [
    "# grouped = df.groupby(\"group_id\")\n",
    "# dfs = [group for _, group in sorted(grouped, key=lambda x: len(x[1]), reverse=True)]"
   ]
  },
  {
   "cell_type": "code",
   "execution_count": 124,
   "id": "a039217f-2f17-4b98-9455-9f550de1db09",
   "metadata": {},
   "outputs": [
    {
     "name": "stdout",
     "output_type": "stream",
     "text": [
      "타락의 상흔 1회 제거하기\n",
      "---------------\n",
      "타락의 상흔 6회 제거하기\n",
      "---------------\n",
      "타락의 상흔 12회 제거하기\n"
     ]
    }
   ],
   "source": [
    "print('\\n---------------\\n'.join(dfs[200].source.tolist()))"
   ]
  },
  {
   "cell_type": "code",
   "execution_count": null,
   "id": "2d225695-c1f8-4acb-afa2-3a6c61b6a5d9",
   "metadata": {},
   "outputs": [
    {
     "data": {
      "text/html": [
       "<div>\n",
       "<style scoped>\n",
       "    .dataframe tbody tr th:only-of-type {\n",
       "        vertical-align: middle;\n",
       "    }\n",
       "\n",
       "    .dataframe tbody tr th {\n",
       "        vertical-align: top;\n",
       "    }\n",
       "\n",
       "    .dataframe thead th {\n",
       "        text-align: right;\n",
       "    }\n",
       "</style>\n",
       "<table border=\"1\" class=\"dataframe\">\n",
       "  <thead>\n",
       "    <tr style=\"text-align: right;\">\n",
       "      <th></th>\n",
       "      <th>source</th>\n",
       "      <th>target</th>\n",
       "    </tr>\n",
       "  </thead>\n",
       "  <tbody>\n",
       "    <tr>\n",
       "      <th>241799</th>\n",
       "      <td>你已经在围场如鱼得水了，打开有概率获得净瓶、念珠、吴山石、沧海玉、灵荒璧、宝匣钥匙、表情包等...</td>\n",
       "      <td>Ngươi đã ở bãi săn như cá gặp nước, mở có xác ...</td>\n",
       "    </tr>\n",
       "    <tr>\n",
       "      <th>253535</th>\n",
       "      <td>在围场成长的见证，打开有概率获得净瓶、念珠、吴山石、沧海玉、灵荒璧、宝匣钥匙、表情包等珍贵道...</td>\n",
       "      <td>Chứng kiến trưởng thành ở bãi săn, mở có xác s...</td>\n",
       "    </tr>\n",
       "  </tbody>\n",
       "</table>\n",
       "</div>"
      ],
      "text/plain": [
       "                                                   source  \\\n",
       "241799  你已经在围场如鱼得水了，打开有概率获得净瓶、念珠、吴山石、沧海玉、灵荒璧、宝匣钥匙、表情包等...   \n",
       "253535  在围场成长的见证，打开有概率获得净瓶、念珠、吴山石、沧海玉、灵荒璧、宝匣钥匙、表情包等珍贵道...   \n",
       "\n",
       "                                                   target  \n",
       "241799  Ngươi đã ở bãi săn như cá gặp nước, mở có xác ...  \n",
       "253535  Chứng kiến trưởng thành ở bãi săn, mở có xác s...  "
      ]
     },
     "execution_count": 86,
     "metadata": {},
     "output_type": "execute_result"
    }
   ],
   "source": [
    "g = list_gs[21000]\n",
    "df.iloc[g]"
   ]
  },
  {
   "cell_type": "code",
   "execution_count": 11,
   "id": "28e28418-821b-4fee-821a-0c2b802fde35",
   "metadata": {},
   "outputs": [
    {
     "data": {
      "text/plain": [
       "['/home/anhvth5/projects/TRANSLATE_UI/assets/LC_STANDARD/GS9_CFL_KO_TH/examples_dedup.csv',\n",
       " '/home/anhvth5/projects/TRANSLATE_UI/assets/LC_STANDARD/GS9_CFL_ZH_TH/examples_dedup.csv',\n",
       " '/home/anhvth5/projects/TRANSLATE_UI/assets/LC_STANDARD/GS9_MS_ZH_EN/examples_dedup.csv',\n",
       " '/home/anhvth5/projects/TRANSLATE_UI/assets/LC_STANDARD/GS9_CFL_KO_ZH/examples_dedup.csv',\n",
       " '/home/anhvth5/projects/TRANSLATE_UI/assets/LC_STANDARD/GS2_TTLCY_ZH_VI/examples_dedup.csv',\n",
       " '/home/anhvth5/projects/TRANSLATE_UI/assets/LC_STANDARD/GS9_RWS_ZH_VI/examples_dedup.csv',\n",
       " '/home/anhvth5/projects/TRANSLATE_UI/assets/LC_STANDARD/GS3_TD_ZH_EN/examples_dedup.csv',\n",
       " '/home/anhvth5/projects/TRANSLATE_UI/assets/LC_STANDARD/GS3_TN_ZH_VI/examples_dedup.csv',\n",
       " '/home/anhvth5/projects/TRANSLATE_UI/assets/LC_STANDARD/GS1_KTO_ZH_VI/examples_dedup.csv',\n",
       " '/home/anhvth5/projects/TRANSLATE_UI/assets/LC_STANDARD/TSN_FW2_ZH_EN/examples_dedup.csv',\n",
       " '/home/anhvth5/projects/TRANSLATE_UI/assets/LC_STANDARD/GS9_CFL_KO_VI/examples_dedup.csv',\n",
       " '/home/anhvth5/projects/TRANSLATE_UI/assets/LC_STANDARD/GS1_JX1M_ZH_VI/examples_dedup.csv',\n",
       " '/home/anhvth5/projects/TRANSLATE_UI/assets/LC_STANDARD/GS9_CFL_ZH_VI/examples_dedup.csv',\n",
       " '/home/anhvth5/projects/TRANSLATE_UI/assets/LC_STANDARD/GS2_CS_ZH_EN/examples_dedup.csv',\n",
       " '/home/anhvth5/projects/TRANSLATE_UI/assets/LC_STANDARD/GS9_CFL_KO_EN/examples_dedup.csv',\n",
       " '/home/anhvth5/projects/TRANSLATE_UI/assets/LC_STANDARD/TSN_SF_ZH_TH/examples_dedup.csv',\n",
       " '/home/anhvth5/projects/TRANSLATE_UI/assets/LC_STANDARD/GS9_TQHT_ZH_VI/examples_dedup.csv',\n",
       " '/home/anhvth5/projects/TRANSLATE_UI/assets/LC_STANDARD/GSG_BHTC_ZH_EN/examples_dedup.csv',\n",
       " '/home/anhvth5/projects/TRANSLATE_UI/assets/LC_STANDARD/GS9_RWS_ZH_EN/examples_dedup.csv',\n",
       " '/home/anhvth5/projects/TRANSLATE_UI/assets/LC_STANDARD/GSG_GNO_ZH_EN/examples_dedup.csv',\n",
       " '/home/anhvth5/projects/TRANSLATE_UI/assets/LC_STANDARD/CN_TH_ZH_TH/examples_dedup.csv',\n",
       " '/home/anhvth5/projects/TRANSLATE_UI/assets/LC_STANDARD/GS9_MS_ZH_VI/examples_dedup.csv']"
      ]
     },
     "execution_count": 11,
     "metadata": {},
     "output_type": "execute_result"
    }
   ],
   "source": [
    "paths = glob('/home/anhvth5/projects/TRANSLATE_UI/assets/*/*/examples_*.csv')\n",
    "paths"
   ]
  },
  {
   "cell_type": "code",
   "execution_count": 12,
   "id": "6978fc14-1784-4123-82b3-5d7368bfd291",
   "metadata": {},
   "outputs": [
    {
     "data": {
      "text/html": [
       "<div>\n",
       "<style scoped>\n",
       "    .dataframe tbody tr th:only-of-type {\n",
       "        vertical-align: middle;\n",
       "    }\n",
       "\n",
       "    .dataframe tbody tr th {\n",
       "        vertical-align: top;\n",
       "    }\n",
       "\n",
       "    .dataframe thead th {\n",
       "        text-align: right;\n",
       "    }\n",
       "</style>\n",
       "<table border=\"1\" class=\"dataframe\">\n",
       "  <thead>\n",
       "    <tr style=\"text-align: right;\">\n",
       "      <th></th>\n",
       "      <th>source</th>\n",
       "      <th>target</th>\n",
       "    </tr>\n",
       "    <tr>\n",
       "      <th>group_id</th>\n",
       "      <th></th>\n",
       "      <th></th>\n",
       "    </tr>\n",
       "  </thead>\n",
       "  <tbody>\n",
       "    <tr>\n",
       "      <th>200</th>\n",
       "      <td>모든 적에게 공격력의 &lt;NegativeSkill&gt;158%&lt;/&gt;만큼 피해를 주고, 7...</td>\n",
       "      <td>สร้าง DMG แก่ศัตรูทั้งหมด&lt;NegativeSkill&gt;158%&lt;/...</td>\n",
       "    </tr>\n",
       "    <tr>\n",
       "      <th>200</th>\n",
       "      <td>모든 적에게 공격력의 &lt;NegativeSkill&gt;173%&lt;/&gt;만큼 피해를 주고, 7...</td>\n",
       "      <td>สร้าง DMG แก่ศัตรูทั้งหมด&lt;NegativeSkill&gt;173%&lt;/...</td>\n",
       "    </tr>\n",
       "    <tr>\n",
       "      <th>200</th>\n",
       "      <td>모든 적에게 공격력의 &lt;NegativeSkill&gt;189%&lt;/&gt;만큼 피해를 주고, 7...</td>\n",
       "      <td>สร้าง DMG แก่ศัตรูทั้งหมด&lt;NegativeSkill&gt;189%&lt;/...</td>\n",
       "    </tr>\n",
       "  </tbody>\n",
       "</table>\n",
       "</div>"
      ],
      "text/plain": [
       "                                                     source  \\\n",
       "group_id                                                      \n",
       "200       모든 적에게 공격력의 <NegativeSkill>158%</>만큼 피해를 주고, 7...   \n",
       "200       모든 적에게 공격력의 <NegativeSkill>173%</>만큼 피해를 주고, 7...   \n",
       "200       모든 적에게 공격력의 <NegativeSkill>189%</>만큼 피해를 주고, 7...   \n",
       "\n",
       "                                                     target  \n",
       "group_id                                                     \n",
       "200       สร้าง DMG แก่ศัตรูทั้งหมด<NegativeSkill>158%</...  \n",
       "200       สร้าง DMG แก่ศัตรูทั้งหมด<NegativeSkill>173%</...  \n",
       "200       สร้าง DMG แก่ศัตรูทั้งหมด<NegativeSkill>189%</...  "
      ]
     },
     "execution_count": 12,
     "metadata": {},
     "output_type": "execute_result"
    }
   ],
   "source": [
    "df = pd.read_csv(paths[0])\n",
    "df['group_id'] = df['group_id'].astype(int)\n",
    "df = df.set_index('group_id')\n",
    "df.loc[200]"
   ]
  },
  {
   "cell_type": "code",
   "execution_count": null,
   "id": "0a2d0661-fcdc-4e63-938e-527b21c437f2",
   "metadata": {},
   "outputs": [],
   "source": []
  }
 ],
 "metadata": {
  "kernelspec": {
   "display_name": "Python 3",
   "language": "python",
   "name": "python3"
  },
  "language_info": {
   "codemirror_mode": {
    "name": "ipython",
    "version": 3
   },
   "file_extension": ".py",
   "mimetype": "text/x-python",
   "name": "python",
   "nbconvert_exporter": "python",
   "pygments_lexer": "ipython3",
   "version": "3.12.11"
  }
 },
 "nbformat": 4,
 "nbformat_minor": 5
}
